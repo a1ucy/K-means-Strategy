{
 "cells": [
  {
   "cell_type": "code",
   "execution_count": 1,
   "metadata": {},
   "outputs": [],
   "source": [
    "from Precode import *\n",
    "import numpy\n",
    "\n",
    "data = np.load('AllSamples.npy')"
   ]
  },
  {
   "cell_type": "code",
   "execution_count": 2,
   "metadata": {},
   "outputs": [
    {
     "name": "stdout",
     "output_type": "stream",
     "text": [
      "Strategy 1: k and initial points\n"
     ]
    }
   ],
   "source": [
    "k1,i_point1,k2,i_point2 = initial_S1('6766') # please replace 0111 with your last four digit of your ID"
   ]
  },
  {
   "cell_type": "code",
   "execution_count": 3,
   "metadata": {},
   "outputs": [
    {
     "name": "stdout",
     "output_type": "stream",
     "text": [
      "3\n",
      "[[6.09952696 9.0178614 ]\n",
      " [8.21925014 9.11712554]\n",
      " [6.2396717  6.55049457]]\n",
      "5\n",
      "[[5.36626615 6.51434231]\n",
      " [3.0226944  0.86402039]\n",
      " [8.07641652 9.27162002]\n",
      " [4.4280969  7.41377907]\n",
      " [7.57805025 3.82487017]]\n"
     ]
    }
   ],
   "source": [
    "print(k1)\n",
    "print(i_point1)\n",
    "print(k2)\n",
    "print(i_point2)"
   ]
  },
  {
   "cell_type": "code",
   "execution_count": 5,
   "metadata": {},
   "outputs": [
    {
     "name": "stdout",
     "output_type": "stream",
     "text": [
      "[[5.37514379 4.53101654]\n",
      " [2.68198633 2.09461587]\n",
      " [7.49365367 8.52417952]\n",
      " [3.22202355 7.15937996]\n",
      " [7.55616782 2.23516796]] 592.069434273275\n"
     ]
    }
   ],
   "source": [
    "def kmeans(initial, k):\n",
    "    # initialize centroids\n",
    "    centroids = initial\n",
    "    # initialize the loss and loss difference\n",
    "    loss = diff = np.inf\n",
    "    # loop until value of loss diff is very small\n",
    "    while diff > 0.0001:\n",
    "        # compute the distances between each data point and each centroid\n",
    "        d = np.array([np.sqrt(np.sum((data - i) ** 2, axis=1)) for i in centroids])\n",
    "        # find the closest centroid\n",
    "        closest = np.argmin(d, axis=0)\n",
    "        # compute the new centroids by taking the mean\n",
    "        new = np.array([data[closest == i].mean(axis=0) for i in range(k)])\n",
    "        # compute the difference \n",
    "        diff = np.abs(np.sum(centroids - new))\n",
    "        # update the centroids \n",
    "        centroids = new\n",
    "        # update the new loss by summing the squared distances\n",
    "        loss = np.sum([np.sum((data[closest == i] - c) ** 2) for i, c in enumerate(centroids)])\n",
    "    return centroids, loss\n",
    "\n",
    "c,l = kmeans(i_point2,k2)\n",
    "print(c,l)"
   ]
  },
  {
   "cell_type": "code",
   "execution_count": null,
   "metadata": {},
   "outputs": [],
   "source": []
  }
 ],
 "metadata": {
  "kernelspec": {
   "display_name": "Python 3",
   "language": "python",
   "name": "python3"
  },
  "language_info": {
   "codemirror_mode": {
    "name": "ipython",
    "version": 3
   },
   "file_extension": ".py",
   "mimetype": "text/x-python",
   "name": "python",
   "nbconvert_exporter": "python",
   "pygments_lexer": "ipython3",
   "version": "3.7.6"
  }
 },
 "nbformat": 4,
 "nbformat_minor": 2
}
